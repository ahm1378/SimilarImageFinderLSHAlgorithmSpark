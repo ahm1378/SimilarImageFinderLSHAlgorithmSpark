{
  "nbformat": 4,
  "nbformat_minor": 0,
  "metadata": {
    "colab": {
      "provenance": []
    },
    "kernelspec": {
      "name": "python3",
      "display_name": "Python 3"
    },
    "language_info": {
      "name": "python"
    }
  },
  "cells": [
    {
      "cell_type": "code",
      "execution_count": 111,
      "metadata": {
        "colab": {
          "base_uri": "https://localhost:8080/"
        },
        "id": "Gbo_xFh3H0QQ",
        "outputId": "3b528977-2480-4556-ed8f-4ff289a4afef"
      },
      "outputs": [
        {
          "output_type": "stream",
          "name": "stdout",
          "text": [
            "Looking in indexes: https://pypi.org/simple, https://us-python.pkg.dev/colab-wheels/public/simple/\n",
            "Requirement already satisfied: pyspark in /usr/local/lib/python3.9/dist-packages (3.4.0)\n",
            "Requirement already satisfied: py4j==0.10.9.7 in /usr/local/lib/python3.9/dist-packages (from pyspark) (0.10.9.7)\n"
          ]
        }
      ],
      "source": [
        "!pip install pyspark"
      ]
    },
    {
      "cell_type": "code",
      "source": [
        "from pyspark import SparkContext\n",
        "from pyspark.sql import SparkSession, Row\n",
        "from pyspark.ml.linalg import Vectors\n",
        "\n",
        "import random\n",
        "spark = SparkSession.builder.appName(\"LSHS\").getOrCreate()\n",
        "# create a SparkSession object\n",
        "it = iter(range(1, 60000))\n",
        "data = spark.read.csv(\"/content/patches.csv\")\n",
        "\n",
        "# convert the data to a format compatible with LSH\n",
        "data = data.rdd.map(lambda row: (next(it), Vectors.dense(row))).toDF([\"id\", \"features\"])"
      ],
      "metadata": {
        "id": "aKuyMV3MH2eB"
      },
      "execution_count": 118,
      "outputs": []
    },
    {
      "cell_type": "code",
      "source": [
        "data.show()"
      ],
      "metadata": {
        "colab": {
          "base_uri": "https://localhost:8080/"
        },
        "id": "9Jw0ADoIIa8m",
        "outputId": "a8de82e3-f82c-45be-a31b-a4c74bae17da"
      },
      "execution_count": 119,
      "outputs": [
        {
          "output_type": "stream",
          "name": "stdout",
          "text": [
            "+---+--------------------+\n",
            "| id|            features|\n",
            "+---+--------------------+\n",
            "|  1|[52.0,65.0,81.0,6...|\n",
            "|  2|[255.0,255.0,255....|\n",
            "|  3|[20.0,5.0,3.0,10....|\n",
            "|  4|[5.0,82.0,153.0,2...|\n",
            "|  5|[105.0,108.0,108....|\n",
            "|  6|[84.0,100.0,118.0...|\n",
            "|  7|[254.0,255.0,255....|\n",
            "|  8|[89.0,105.0,85.0,...|\n",
            "|  9|[254.0,253.0,250....|\n",
            "| 10|[116.0,119.0,96.0...|\n",
            "| 11|[87.0,79.0,60.0,6...|\n",
            "| 12|[4.0,3.0,8.0,1.0,...|\n",
            "| 13|[248.0,251.0,254....|\n",
            "| 14|[81.0,69.0,32.0,2...|\n",
            "| 15|[255.0,255.0,255....|\n",
            "| 16|[49.0,73.0,89.0,8...|\n",
            "| 17|[21.0,30.0,26.0,4...|\n",
            "| 18|[253.0,255.0,255....|\n",
            "| 19|[4.0,0.0,15.0,0.0...|\n",
            "| 20|[197.0,177.0,121....|\n",
            "+---+--------------------+\n",
            "only showing top 20 rows\n",
            "\n"
          ]
        }
      ]
    },
    {
      "cell_type": "code",
      "source": [
        "data.count()"
      ],
      "metadata": {
        "colab": {
          "base_uri": "https://localhost:8080/"
        },
        "id": "7Kx3jvgv2JBh",
        "outputId": "e2dc0332-01ae-4f54-e4d3-1af886c2ed7d"
      },
      "execution_count": 120,
      "outputs": [
        {
          "output_type": "execute_result",
          "data": {
            "text/plain": [
              "4824"
            ]
          },
          "metadata": {},
          "execution_count": 120
        }
      ]
    },
    {
      "cell_type": "code",
      "source": [
        "num_hash_tables = 50\n",
        "bucket_length = 100"
      ],
      "metadata": {
        "id": "Ul0yeVcvI5X_"
      },
      "execution_count": 151,
      "outputs": []
    },
    {
      "cell_type": "code",
      "source": [
        "\n",
        "m = [Vectors.dense([float(random.uniform(-1, 1)) for _ in range(len(data.first().features))]) for _ in range(num_hash_tables)]"
      ],
      "metadata": {
        "id": "_LJUNPKcMlgM"
      },
      "execution_count": 152,
      "outputs": []
    },
    {
      "cell_type": "code",
      "source": [
        "def hash_vector(v, m, w):\n",
        "    \"\"\"Hash a vector using random projections.\"\"\"\n",
        "    return tuple(int((v.dot(m[i]) ) // w) for i in range(len(m)))"
      ],
      "metadata": {
        "id": "dFh7-SrwMuhe"
      },
      "execution_count": 153,
      "outputs": []
    },
    {
      "cell_type": "code",
      "source": [],
      "metadata": {
        "id": "iJpFcC-uxeIA"
      },
      "execution_count": 142,
      "outputs": []
    },
    {
      "cell_type": "code",
      "source": [
        "def manhattan_distance(x, y):\n",
        "    \"\"\"Calculate Manhattan distance between two vectors.\"\"\"\n",
        "    return sum(abs(x[i] - y[i]) for i in range(len(x)))"
      ],
      "metadata": {
        "id": "6DzYuYLkyhj9"
      },
      "execution_count": 143,
      "outputs": []
    },
    {
      "cell_type": "code",
      "source": [
        "final_df = data.collect()"
      ],
      "metadata": {
        "id": "F0vYsu5j0XGy"
      },
      "execution_count": 144,
      "outputs": []
    },
    {
      "cell_type": "code",
      "source": [],
      "metadata": {
        "id": "fjmS4QAj0dt8"
      },
      "execution_count": 144,
      "outputs": []
    },
    {
      "cell_type": "code",
      "source": [
        "w = bucket_length\n",
        "\n",
        "w= bucket_length\n",
        "def find_nearest(n,k):\n",
        "  global final_df\n",
        "  query = final_df[n]['features']\n",
        "  hashed_query = hash_vector(query, m, w)\n",
        "\n",
        "  bucketed_data = data.rdd.map(lambda row:(row.id ,hash_vector(row.features, m, w)))\n",
        "  candidate_buckets = bucketed_data.map(lambda x: (x[0],manhattan_distance(x[1],hashed_query))).collect()\n",
        "  return sorted(candidate_buckets, key=lambda x: x[1])[:k]\n"
      ],
      "metadata": {
        "id": "dOBVn9BqNYyj"
      },
      "execution_count": 154,
      "outputs": []
    },
    {
      "cell_type": "code",
      "source": [
        "def find_nearest_normal(n,k):\n",
        "  global final_df\n",
        "  query = final_df[n]['features']\n",
        "  bucketed_data = data.rdd.map(lambda row:(row.id ,manhattan_distance(row.features, query))).collect()\n",
        "  return sorted(bucketed_data, key=lambda x: x[1])[:k]"
      ],
      "metadata": {
        "id": "9U6NhK642FMO"
      },
      "execution_count": 155,
      "outputs": []
    },
    {
      "cell_type": "code",
      "source": [
        "for i in range(100,1000,100):\n",
        " \n",
        "  print(find_nearest(i,3))\n"
      ],
      "metadata": {
        "colab": {
          "base_uri": "https://localhost:8080/"
        },
        "id": "mA50LoIryzwG",
        "outputId": "37ad66d5-e6b7-493e-e36c-d0829594e8cf"
      },
      "execution_count": 156,
      "outputs": [
        {
          "output_type": "stream",
          "name": "stdout",
          "text": [
            "[(101, 0), (2281, 109), (1399, 109)]\n",
            "[(201, 0), (119, 168), (1889, 174)]\n",
            "[(301, 0), (2210, 179), (1611, 184)]\n",
            "[(401, 0), (1172, 165), (464, 175)]\n",
            "[(501, 0), (1179, 63), (558, 88)]\n",
            "[(601, 0), (473, 126), (374, 140)]\n",
            "[(701, 0), (91, 142), (626, 153)]\n",
            "[(801, 0), (144, 144), (1716, 153)]\n",
            "[(901, 0), (1345, 189), (379, 193)]\n"
          ]
        }
      ]
    },
    {
      "cell_type": "code",
      "source": [
        "for i in range(100,1000,100):\n",
        "\n",
        "  print(find_nearest_normal(i,3))"
      ],
      "metadata": {
        "colab": {
          "base_uri": "https://localhost:8080/"
        },
        "id": "C8I0yQD19jiy",
        "outputId": "e917f0ce-9dc8-46bf-85ec-ffceb3a483f9"
      },
      "execution_count": 157,
      "outputs": [
        {
          "output_type": "stream",
          "name": "stdout",
          "text": [
            "[(101, 0.0), (2004, 8889.0), (2276, 9363.0)]\n",
            "[(201, 0.0), (92, 9252.0), (605, 9252.0)]\n",
            "[(301, 0.0), (1766, 10851.0), (2004, 10882.0)]\n",
            "[(401, 0.0), (172, 9514.0), (1693, 9631.0)]\n",
            "[(501, 0.0), (1179, 2483.0), (558, 3240.0)]\n",
            "[(601, 0.0), (374, 3672.0), (796, 4281.0)]\n",
            "[(701, 0.0), (91, 8895.0), (531, 9356.0)]\n",
            "[(801, 0.0), (1716, 6643.0), (144, 6913.0)]\n",
            "[(901, 0.0), (1839, 10411.0), (1377, 10558.0)]\n"
          ]
        }
      ]
    },
    {
      "cell_type": "code",
      "source": [
        "ten_nearest_lsh = find_nearest(100,10)"
      ],
      "metadata": {
        "id": "DymFa5ETiXRp"
      },
      "execution_count": 162,
      "outputs": []
    },
    {
      "cell_type": "code",
      "source": [
        "ten_nearest_normal = find_nearest_normal(100,10)"
      ],
      "metadata": {
        "id": "7cv7TZgbTfsW"
      },
      "execution_count": 161,
      "outputs": []
    },
    {
      "cell_type": "code",
      "source": [
        "import matplotlib.pyplot as plt\n"
      ],
      "metadata": {
        "id": "56joh0y5IBDZ"
      },
      "execution_count": 167,
      "outputs": []
    },
    {
      "cell_type": "code",
      "source": [
        "import numpy as np\n",
        "def draw_picure(ten_nearest):\n",
        "  for i in ten_nearest:\n",
        "    id = i[0]\n",
        "    u=final_df[id]['features']\n",
        "    img_array = np.array(u).reshape(20, 20)\n",
        "\n",
        "    # Plot the image using imshow\n",
        "    plt.imshow(img_array, cmap='gray')\n",
        "    "
      ],
      "metadata": {
        "id": "78tp6ejCIOgu"
      },
      "execution_count": 175,
      "outputs": []
    },
    {
      "cell_type": "code",
      "source": [
        "draw_picure(ten_nearest_lsh)\n",
        "draw_picure(ten_nearest_normal)"
      ],
      "metadata": {
        "id": "Fec0pnjwIRut",
        "outputId": "ec3b629e-763b-42c4-8298-89be6e443284",
        "colab": {
          "base_uri": "https://localhost:8080/",
          "height": 430
        }
      },
      "execution_count": 176,
      "outputs": [
        {
          "output_type": "display_data",
          "data": {
            "text/plain": [
              "<Figure size 640x480 with 1 Axes>"
            ],
            "image/png": "[encoded data removed]"
          },
          "metadata": {}
        }
      ]
    },
    {
      "cell_type": "code",
      "source": [],
      "metadata": {
        "id": "06Hw6LjdLE4E"
      },
      "execution_count": null,
      "outputs": []
    }
  ]
}